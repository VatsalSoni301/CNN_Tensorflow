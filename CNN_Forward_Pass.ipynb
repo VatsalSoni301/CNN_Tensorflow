{
 "cells": [
  {
   "cell_type": "markdown",
   "metadata": {},
   "source": [
    "### Colvolution Neural Network Forward Pass having 2 Convolution Layer and 1 fully connected Layer"
   ]
  },
  {
   "cell_type": "code",
   "execution_count": 937,
   "metadata": {},
   "outputs": [],
   "source": [
    "import sys\n",
    "import numpy as np\n",
    "import pandas as pd\n",
    "from PIL import Image\n",
    "import os\n",
    "import random"
   ]
  },
  {
   "cell_type": "markdown",
   "metadata": {},
   "source": [
    "### Relu Activation function to achieve Non-linearity"
   ]
  },
  {
   "cell_type": "code",
   "execution_count": 938,
   "metadata": {},
   "outputs": [],
   "source": [
    "def ReLU(x):\n",
    "    tempf = []\n",
    "    for i in x:\n",
    "        temp1 = []\n",
    "        for j in i:\n",
    "            temp = []\n",
    "            for k in j:\n",
    "                if k<0 or k>255:\n",
    "                    temp.append(0)\n",
    "                else:\n",
    "                    temp.append(k)\n",
    "            temp1.append(temp)\n",
    "        tempf.append(temp1)\n",
    "    tempf = np.array(tempf)\n",
    "#     print(tempf.shape)\n",
    "#     print(tempf)\n",
    "    return tempf"
   ]
  },
  {
   "cell_type": "markdown",
   "metadata": {},
   "source": [
    "### Randomly initialize filter matrix \n",
    "### filter matrix of dimension 5 * 5"
   ]
  },
  {
   "cell_type": "code",
   "execution_count": 939,
   "metadata": {},
   "outputs": [],
   "source": [
    "def createFilter(row,col,depth,filtercount):\n",
    "    filterMatrix = np.random.rand(row,col,depth,filtercount)*0.01\n",
    "#     filterMatrix = random.random(row,col,depth)\n",
    "#     filterMatrix=np.full((row,col,depth,filtercount), 1)\n",
    "    return filterMatrix"
   ]
  },
  {
   "cell_type": "markdown",
   "metadata": {},
   "source": [
    "### Dot product of input data matrix and filter matrix and sum up all elements of matrix"
   ]
  },
  {
   "cell_type": "code",
   "execution_count": 940,
   "metadata": {},
   "outputs": [],
   "source": [
    "def convolveOperation(data,dataFilter):\n",
    "#     print(data.shape)\n",
    "#     print(dataFilter.shape)\n",
    "    convRes = np.multiply(data,dataFilter)\n",
    "    return convRes.sum()"
   ]
  },
  {
   "cell_type": "markdown",
   "metadata": {},
   "source": [
    "### Perform convolution operation on input data matrix by slicing filter over matrix and generate feature map"
   ]
  },
  {
   "cell_type": "code",
   "execution_count": 941,
   "metadata": {},
   "outputs": [],
   "source": [
    "def convolve(data,datafilter):\n",
    "    filterRow, filterCol, filterdepth, filtercount = datafilter.shape\n",
    "    dataRow, dataCol, datadepth = data.shape\n",
    "#     print(datadepth)\n",
    "    convResultRow = dataRow - filterRow + 1\n",
    "    convResultCol = dataCol - filterCol + 1\n",
    "    convResult = np.zeros((convResultRow,convResultCol,filtercount))\n",
    "    for numfil in range(filtercount):\n",
    "        for x in range(convResultRow):\n",
    "            for y in range(convResultCol):\n",
    "                if x+filterRow > dataRow or y+filterCol > dataCol:\n",
    "                    break\n",
    "                convResult[x][y][numfil] = convolveOperation(data[x:x+filterRow,y:y+filterCol,:],datafilter[:,:,:,numfil])\n",
    "    return convResult"
   ]
  },
  {
   "cell_type": "markdown",
   "metadata": {},
   "source": [
    "### Perform pooling operation over data(Result of relu)"
   ]
  },
  {
   "cell_type": "code",
   "execution_count": 942,
   "metadata": {},
   "outputs": [],
   "source": [
    "def maxPooling(data,poolRowSize,poolColSize,stride):\n",
    "    dataRow, dataCol, resLayer = data.shape\n",
    "    \n",
    "    poolResCols = int((dataCol - poolColSize)/stride+1)\n",
    "    poolResRows = int((dataRow - poolRowSize)/stride+1)\n",
    "    \n",
    "#     print(type(poolResCols))\n",
    "#     print(type(poolResRows))\n",
    "    poolRes = np.zeros((poolResRows,poolResCols,resLayer))\n",
    "    for l in range(resLayer):\n",
    "        i = 0\n",
    "        while i < dataRow:\n",
    "            j = 0\n",
    "            while j < dataCol and i+poolRowSize < dataRow and j+poolColSize < dataCol:\n",
    "                poolRes[int(i/2),int(j/2),l] = np.max(data[i:i+poolRowSize,j:j+poolColSize,l])\n",
    "                j += stride\n",
    "            i += stride\n",
    "    return poolRes"
   ]
  },
  {
   "cell_type": "markdown",
   "metadata": {},
   "source": [
    "### Create random weight matrix for neural network with one hidden layer"
   ]
  },
  {
   "cell_type": "code",
   "execution_count": 943,
   "metadata": {},
   "outputs": [],
   "source": [
    "def createWeightMatrix(inputunits,hiddenunits,outputuints):\n",
    "    hiddenWeights = np.random.randn(inputunits,hiddenunits)\n",
    "    outputWeights = np.random.randn(hiddenunits,outputuints)\n",
    "    return hiddenWeights,outputWeights"
   ]
  },
  {
   "cell_type": "markdown",
   "metadata": {},
   "source": [
    "### Sigmoid activation function for forward pass in neural network"
   ]
  },
  {
   "cell_type": "code",
   "execution_count": 944,
   "metadata": {},
   "outputs": [],
   "source": [
    "def sigmoid(x):\n",
    "    x = -x\n",
    "    return 1 / (1+np.exp(x))"
   ]
  },
  {
   "cell_type": "markdown",
   "metadata": {},
   "source": [
    "### Forward pass of a neural network"
   ]
  },
  {
   "cell_type": "code",
   "execution_count": 945,
   "metadata": {},
   "outputs": [],
   "source": [
    "def forwardPass(i,inputunits,hiddemunits,outputunits):\n",
    "    hiddenWeights, outputWeights = createWeightMatrix(inputunits,hiddemunits,outputunits)\n",
    "    hypo_1 = np.dot(i,hiddenWeights)\n",
    "    ypredicted_1 = sigmoid(hypo_1)\n",
    "    hypo_2 = np.dot(ypredicted_1,outputWeights)\n",
    "    ypredicted_2 = sigmoid(hypo_2)\n",
    "    return ypredicted_2"
   ]
  },
  {
   "cell_type": "markdown",
   "metadata": {},
   "source": [
    "### Apply softmax on a output of a neural network to convert values into a probabilities to find most likelihood"
   ]
  },
  {
   "cell_type": "code",
   "execution_count": 946,
   "metadata": {},
   "outputs": [],
   "source": [
    "def softMax(z):\n",
    "    expScores = np.exp(z)\n",
    "    probs = expScores/np.sum(expScores)\n",
    "    return probs"
   ]
  },
  {
   "cell_type": "code",
   "execution_count": 947,
   "metadata": {},
   "outputs": [],
   "source": [
    "filterRows = 5\n",
    "filterCols = 5\n",
    "filterdepth = 3\n",
    "\n",
    "filterDepthLayer_1 = 6\n",
    "filterDepthLayer_2 = 16\n",
    "\n",
    "nnInputUnits = 120\n",
    "nnHiddenUnits = 84\n",
    "nnOutputUnits = 10\n",
    "\n",
    "poolingRows = 2\n",
    "poolingCols = 2\n",
    "filterDepth_fc = 120\n",
    "\n",
    "\n",
    "imgPath = \"test.jpeg\"\n",
    "imgRows = 32\n",
    "imgCols = 32\n",
    "imgdepth = 3\n",
    "\n",
    "stride = 2"
   ]
  },
  {
   "cell_type": "code",
   "execution_count": 948,
   "metadata": {},
   "outputs": [
    {
     "name": "stdout",
     "output_type": "stream",
     "text": [
      "Image Dimension : (194, 260, 3)\n",
      "Reduced Image Dimension : (32, 32, 3)\n"
     ]
    }
   ],
   "source": [
    "if os.path.isfile(imgPath):\n",
    "    img = Image.open(imgPath)\n",
    "    imgArray = np.array(img)\n",
    "    print(\"Image Dimension :\",imgArray.shape)\n",
    "    img1 = Image.fromarray(imgArray,'RGB')\n",
    "    img1 = img1.resize((312,312))\n",
    "    img1.show()\n",
    "    img = img.resize((imgRows,imgCols),Image.ANTIALIAS)\n",
    "    reducedImageArray = np.array(img)\n",
    "    img1 = Image.fromarray(reducedImageArray,'RGB')\n",
    "    img1 = img1.resize((312,312))\n",
    "    img1.show()\n",
    "    print(\"Reduced Image Dimension :\",reducedImageArray.shape)\n",
    "else:\n",
    "    print(\"File Not Found\")\n",
    "    sys.exit(1)\n"
   ]
  },
  {
   "cell_type": "markdown",
   "metadata": {},
   "source": [
    "### Actual Implementation"
   ]
  },
  {
   "cell_type": "code",
   "execution_count": 949,
   "metadata": {},
   "outputs": [
    {
     "name": "stdout",
     "output_type": "stream",
     "text": [
      "(5, 5, 3, 6)\n",
      "Dimensions after 1st Convolution : (28, 28, 6)\n",
      "Dimensions after 1st Max Pooling: (14, 14, 6)\n",
      "(5, 5, 6, 16)\n",
      "Dimension after 2nd Convolution: (10, 10, 16)\n",
      "Dimension after 2nd Max Pooling: (5, 5, 16)\n",
      "(5, 5, 16, 120)\n",
      "Filter Dimensions for FC Convolution: (5, 5, 16, 120)\n",
      "Dimensions after FC Convolution: (1, 1, 120)\n",
      "Dimensions after applying ReLU: (1, 1, 120)\n",
      "(1, 1, 10)\n",
      "Predicted class of Image: \n",
      "2\n"
     ]
    },
    {
     "name": "stderr",
     "output_type": "stream",
     "text": [
      "/home/vatsal/.local/lib/python3.6/site-packages/ipykernel_launcher.py:3: RuntimeWarning: overflow encountered in exp\n",
      "  This is separate from the ipykernel package so we can avoid doing imports until\n"
     ]
    }
   ],
   "source": [
    "# ------------------------ Pass-1 ---------------------------\n",
    "\n",
    "# create Filter\n",
    "filterLayer_1 = createFilter(filterRows,filterCols,filterdepth,filterDepthLayer_1)\n",
    "# print(filterLayer_1)\n",
    "print(filterLayer_1.shape)\n",
    "# perform convolution operation\n",
    "# print(imageArray.shape)\n",
    "convResult_1 = convolve(reducedImageArray,filterLayer_1)\n",
    "print(\"Dimensions after 1st Convolution :\",convResult_1.shape)\n",
    "# Apply Relu function\n",
    "reluResult_1 = ReLU(convResult_1)\n",
    "img1 = Image.fromarray(reluResult_1,'RGB')\n",
    "img1 = img1.resize((312,312))\n",
    "img1.show()\n",
    "poolResult_1 = maxPooling(reluResult_1,poolingRows,poolingCols,stride)\n",
    "img1 = Image.fromarray(poolResult_1,'RGB')\n",
    "img1 = img1.resize((312,312))\n",
    "img1.show()\n",
    "print(\"Dimensions after 1st Max Pooling:\",poolResult_1.shape)\n",
    "\n",
    "\n",
    "# ------------------------ Pass-2 ---------------------------\n",
    "\n",
    "filterLayer_2 = createFilter(filterRows,filterCols,filterDepthLayer_1,filterDepthLayer_2)\n",
    "print(filterLayer_2.shape)\n",
    "convResult_2 = convolve(poolResult_1,filterLayer_2)\n",
    "print(\"Dimension after 2nd Convolution:\",convResult_2.shape)\n",
    "reluResult_2 = ReLU(convResult_2)\n",
    "img1 = Image.fromarray(reluResult_2,'RGB')\n",
    "img1 = img1.resize((312,312))\n",
    "img1.show()\n",
    "poolResult_2 = maxPooling(reluResult_2,poolingRows,poolingCols,stride)\n",
    "img1 = Image.fromarray(poolResult_2,'RGB')\n",
    "img1 = img1.resize((312,312))\n",
    "img1.show()\n",
    "print(\"Dimension after 2nd Max Pooling:\",poolResult_2.shape)\n",
    "\n",
    "# ------------------------ First FC layer ---------------------------\n",
    "\n",
    "filterLayer_3 = createFilter(filterRows,filterCols,filterDepthLayer_2,filterDepth_fc)\n",
    "print(filterLayer_3.shape)\n",
    "print(\"Filter Dimensions for FC Convolution:\",filterLayer_3.shape)\n",
    "convResult_3 = convolve(poolResult_2,filterLayer_3)\n",
    "print(\"Dimensions after FC Convolution:\",convResult_3.shape)\n",
    "reluResult_3 = ReLU(convResult_3)\n",
    "img1 = Image.fromarray(reluResult_3,'RGB')\n",
    "img1 = img1.resize((312,312))\n",
    "img1.show()\n",
    "print(\"Dimensions after applying ReLU:\",reluResult_3.shape)\n",
    "\n",
    "# ------------------- Neural Network Forward Pass ---------------------\n",
    "\n",
    "nnOutput = forwardPass(reluResult_3,nnInputUnits,nnHiddenUnits,nnOutputUnits)\n",
    "\n",
    "print(nnOutput.shape)\n",
    "\n",
    "softmaxRes = softMax(nnOutput[0,0,:])\n",
    "print(\"Predicted class of Image: \")\n",
    "print(np.argmax(softmaxRes))"
   ]
  }
 ],
 "metadata": {
  "kernelspec": {
   "display_name": "Python 3",
   "language": "python",
   "name": "python3"
  },
  "language_info": {
   "codemirror_mode": {
    "name": "ipython",
    "version": 3
   },
   "file_extension": ".py",
   "mimetype": "text/x-python",
   "name": "python",
   "nbconvert_exporter": "python",
   "pygments_lexer": "ipython3",
   "version": "3.6.7"
  }
 },
 "nbformat": 4,
 "nbformat_minor": 2
}
